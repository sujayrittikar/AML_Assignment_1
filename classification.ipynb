{
 "cells": [
  {
   "cell_type": "code",
   "execution_count": 1,
   "id": "52f4ef29-6d70-4e79-bb41-0bc8403bbcfc",
   "metadata": {},
   "outputs": [],
   "source": [
    "import numpy as np\n",
    "import pandas as pd\n",
    "import matplotlib.pyplot as plt\n",
    "\n",
    "from sklearn.feature_extraction.text import TfidfVectorizer\n",
    "from sklearn.preprocessing import MultiLabelBinarizer, StandardScaler\n",
    "from sklearn.model_selection import train_test_split, cross_val_score, cross_val_predict, GridSearchCV\n",
    "from sklearn.metrics import (\n",
    "    accuracy_score, classification_report, f1_score, roc_curve, auc,\n",
    "    roc_auc_score, precision_recall_curve, PrecisionRecallDisplay\n",
    ")\n",
    "\n",
    "from sklearn.svm import SVC\n",
    "from sklearn.naive_bayes import BernoulliNB\n",
    "from sklearn.tree import DecisionTreeClassifier\n",
    "from sklearn.neighbors import KNeighborsClassifier\n",
    "from sklearn.linear_model import LogisticRegression\n",
    "from sklearn.ensemble import RandomForestClassifier, VotingClassifier"
   ]
  },
  {
   "cell_type": "code",
   "execution_count": 2,
   "id": "f4ba289b-35b8-47fc-a950-fceff06e653a",
   "metadata": {},
   "outputs": [],
   "source": [
    "df = pd.read_csv(\"mathe_dataset.csv\", sep=\";\", encoding=\"ISO-8859-1\")"
   ]
  },
  {
   "cell_type": "code",
   "execution_count": 3,
   "id": "c59f82f9-a4d1-4fe7-bc5b-d3b5f97c69e7",
   "metadata": {},
   "outputs": [
    {
     "data": {
      "text/html": [
       "<div>\n",
       "<style scoped>\n",
       "    .dataframe tbody tr th:only-of-type {\n",
       "        vertical-align: middle;\n",
       "    }\n",
       "\n",
       "    .dataframe tbody tr th {\n",
       "        vertical-align: top;\n",
       "    }\n",
       "\n",
       "    .dataframe thead th {\n",
       "        text-align: right;\n",
       "    }\n",
       "</style>\n",
       "<table border=\"1\" class=\"dataframe\">\n",
       "  <thead>\n",
       "    <tr style=\"text-align: right;\">\n",
       "      <th></th>\n",
       "      <th>Student ID</th>\n",
       "      <th>Student Country</th>\n",
       "      <th>Question ID</th>\n",
       "      <th>Type of Answer</th>\n",
       "      <th>Question Level</th>\n",
       "      <th>Topic</th>\n",
       "      <th>Subtopic</th>\n",
       "      <th>Keywords</th>\n",
       "    </tr>\n",
       "  </thead>\n",
       "  <tbody>\n",
       "    <tr>\n",
       "      <th>0</th>\n",
       "      <td>647</td>\n",
       "      <td>Ireland</td>\n",
       "      <td>77</td>\n",
       "      <td>0</td>\n",
       "      <td>Basic</td>\n",
       "      <td>Statistics</td>\n",
       "      <td>Statistics</td>\n",
       "      <td>Stem and Leaf diagram,Relative frequency,Sampl...</td>\n",
       "    </tr>\n",
       "    <tr>\n",
       "      <th>1</th>\n",
       "      <td>41</td>\n",
       "      <td>Portugal</td>\n",
       "      <td>77</td>\n",
       "      <td>1</td>\n",
       "      <td>Basic</td>\n",
       "      <td>Statistics</td>\n",
       "      <td>Statistics</td>\n",
       "      <td>Stem and Leaf diagram,Relative frequency,Sampl...</td>\n",
       "    </tr>\n",
       "    <tr>\n",
       "      <th>2</th>\n",
       "      <td>340</td>\n",
       "      <td>Portugal</td>\n",
       "      <td>77</td>\n",
       "      <td>1</td>\n",
       "      <td>Basic</td>\n",
       "      <td>Statistics</td>\n",
       "      <td>Statistics</td>\n",
       "      <td>Stem and Leaf diagram,Relative frequency,Sampl...</td>\n",
       "    </tr>\n",
       "    <tr>\n",
       "      <th>3</th>\n",
       "      <td>641</td>\n",
       "      <td>Italy</td>\n",
       "      <td>77</td>\n",
       "      <td>0</td>\n",
       "      <td>Basic</td>\n",
       "      <td>Statistics</td>\n",
       "      <td>Statistics</td>\n",
       "      <td>Stem and Leaf diagram,Relative frequency,Sampl...</td>\n",
       "    </tr>\n",
       "    <tr>\n",
       "      <th>4</th>\n",
       "      <td>669</td>\n",
       "      <td>Portugal</td>\n",
       "      <td>77</td>\n",
       "      <td>1</td>\n",
       "      <td>Basic</td>\n",
       "      <td>Statistics</td>\n",
       "      <td>Statistics</td>\n",
       "      <td>Stem and Leaf diagram,Relative frequency,Sampl...</td>\n",
       "    </tr>\n",
       "  </tbody>\n",
       "</table>\n",
       "</div>"
      ],
      "text/plain": [
       "   Student ID Student Country  Question ID  Type of Answer Question Level  \\\n",
       "0         647         Ireland           77               0          Basic   \n",
       "1          41        Portugal           77               1          Basic   \n",
       "2         340        Portugal           77               1          Basic   \n",
       "3         641           Italy           77               0          Basic   \n",
       "4         669        Portugal           77               1          Basic   \n",
       "\n",
       "        Topic    Subtopic                                           Keywords  \n",
       "0  Statistics  Statistics  Stem and Leaf diagram,Relative frequency,Sampl...  \n",
       "1  Statistics  Statistics  Stem and Leaf diagram,Relative frequency,Sampl...  \n",
       "2  Statistics  Statistics  Stem and Leaf diagram,Relative frequency,Sampl...  \n",
       "3  Statistics  Statistics  Stem and Leaf diagram,Relative frequency,Sampl...  \n",
       "4  Statistics  Statistics  Stem and Leaf diagram,Relative frequency,Sampl...  "
      ]
     },
     "execution_count": 3,
     "metadata": {},
     "output_type": "execute_result"
    }
   ],
   "source": [
    "df.head()"
   ]
  },
  {
   "cell_type": "code",
   "execution_count": 4,
   "id": "6e2142e9-9f24-459d-ab7d-3bcdbc6ddb6b",
   "metadata": {},
   "outputs": [],
   "source": [
    "df['Keywords'] = df['Keywords'].str.split(',')"
   ]
  },
  {
   "cell_type": "code",
   "execution_count": 5,
   "id": "61ec83ff-e9eb-444f-a899-3bfbeb2a46dc",
   "metadata": {},
   "outputs": [
    {
     "data": {
      "text/html": [
       "<div>\n",
       "<style scoped>\n",
       "    .dataframe tbody tr th:only-of-type {\n",
       "        vertical-align: middle;\n",
       "    }\n",
       "\n",
       "    .dataframe tbody tr th {\n",
       "        vertical-align: top;\n",
       "    }\n",
       "\n",
       "    .dataframe thead th {\n",
       "        text-align: right;\n",
       "    }\n",
       "</style>\n",
       "<table border=\"1\" class=\"dataframe\">\n",
       "  <thead>\n",
       "    <tr style=\"text-align: right;\">\n",
       "      <th></th>\n",
       "      <th>Student ID</th>\n",
       "      <th>Student Country</th>\n",
       "      <th>Question ID</th>\n",
       "      <th>Type of Answer</th>\n",
       "      <th>Question Level</th>\n",
       "      <th>Topic</th>\n",
       "      <th>Subtopic</th>\n",
       "      <th>Keywords</th>\n",
       "    </tr>\n",
       "  </thead>\n",
       "  <tbody>\n",
       "    <tr>\n",
       "      <th>0</th>\n",
       "      <td>647</td>\n",
       "      <td>Ireland</td>\n",
       "      <td>77</td>\n",
       "      <td>0</td>\n",
       "      <td>Basic</td>\n",
       "      <td>Statistics</td>\n",
       "      <td>Statistics</td>\n",
       "      <td>[Stem and Leaf diagram, Relative frequency, Sa...</td>\n",
       "    </tr>\n",
       "    <tr>\n",
       "      <th>1</th>\n",
       "      <td>41</td>\n",
       "      <td>Portugal</td>\n",
       "      <td>77</td>\n",
       "      <td>1</td>\n",
       "      <td>Basic</td>\n",
       "      <td>Statistics</td>\n",
       "      <td>Statistics</td>\n",
       "      <td>[Stem and Leaf diagram, Relative frequency, Sa...</td>\n",
       "    </tr>\n",
       "    <tr>\n",
       "      <th>2</th>\n",
       "      <td>340</td>\n",
       "      <td>Portugal</td>\n",
       "      <td>77</td>\n",
       "      <td>1</td>\n",
       "      <td>Basic</td>\n",
       "      <td>Statistics</td>\n",
       "      <td>Statistics</td>\n",
       "      <td>[Stem and Leaf diagram, Relative frequency, Sa...</td>\n",
       "    </tr>\n",
       "    <tr>\n",
       "      <th>3</th>\n",
       "      <td>641</td>\n",
       "      <td>Italy</td>\n",
       "      <td>77</td>\n",
       "      <td>0</td>\n",
       "      <td>Basic</td>\n",
       "      <td>Statistics</td>\n",
       "      <td>Statistics</td>\n",
       "      <td>[Stem and Leaf diagram, Relative frequency, Sa...</td>\n",
       "    </tr>\n",
       "    <tr>\n",
       "      <th>4</th>\n",
       "      <td>669</td>\n",
       "      <td>Portugal</td>\n",
       "      <td>77</td>\n",
       "      <td>1</td>\n",
       "      <td>Basic</td>\n",
       "      <td>Statistics</td>\n",
       "      <td>Statistics</td>\n",
       "      <td>[Stem and Leaf diagram, Relative frequency, Sa...</td>\n",
       "    </tr>\n",
       "  </tbody>\n",
       "</table>\n",
       "</div>"
      ],
      "text/plain": [
       "   Student ID Student Country  Question ID  Type of Answer Question Level  \\\n",
       "0         647         Ireland           77               0          Basic   \n",
       "1          41        Portugal           77               1          Basic   \n",
       "2         340        Portugal           77               1          Basic   \n",
       "3         641           Italy           77               0          Basic   \n",
       "4         669        Portugal           77               1          Basic   \n",
       "\n",
       "        Topic    Subtopic                                           Keywords  \n",
       "0  Statistics  Statistics  [Stem and Leaf diagram, Relative frequency, Sa...  \n",
       "1  Statistics  Statistics  [Stem and Leaf diagram, Relative frequency, Sa...  \n",
       "2  Statistics  Statistics  [Stem and Leaf diagram, Relative frequency, Sa...  \n",
       "3  Statistics  Statistics  [Stem and Leaf diagram, Relative frequency, Sa...  \n",
       "4  Statistics  Statistics  [Stem and Leaf diagram, Relative frequency, Sa...  "
      ]
     },
     "execution_count": 5,
     "metadata": {},
     "output_type": "execute_result"
    }
   ],
   "source": [
    "df.head()"
   ]
  },
  {
   "cell_type": "markdown",
   "id": "5221f1eb-0f40-4b2e-b5a7-1a867981632e",
   "metadata": {},
   "source": [
    "# Classification Problem: Find whether the answer for a question is correct or not.\n",
    "\n",
    "- Given the inputs: `Student Country, Type of Answer, Question Level, Topic, Subtopic and Keywords`, classify whether the answer is correct.\n",
    "- This is a Binary Classification problem.\n",
    "- We apply different classical Machine Learning models used for Classification:\n",
    "    - Logistic Regression\n",
    "    - Naive Bayes\n",
    "    - Support Vector Machine\n",
    "    - Decision Trees\n",
    "    - Random Forest Regressor\n",
    "    - KNN\n",
    "    - Other Ensemble methods if required"
   ]
  },
  {
   "cell_type": "markdown",
   "id": "306579d1-9b5b-4bf5-979e-fdbb7b90e31f",
   "metadata": {},
   "source": [
    "### Pre-processing\n",
    "\n",
    "- Convert `Question Level, Topic and Subtopic` to one-hot-encodings using multi-label binarizer from sklearn.\n",
    "- Using Tf-Idf Vectorizer, get a vector form for the Keywords. This is done in order to identify the relevance of keywords with respect to all the keywords used throughout the data."
   ]
  },
  {
   "cell_type": "code",
   "execution_count": 6,
   "id": "07152277-f8a9-4cdd-871e-4fb5c9139a06",
   "metadata": {},
   "outputs": [],
   "source": [
    "multi_label_cols = ['Question Level', 'Topic', 'Subtopic', 'Student Country']\n",
    "preproc_df = df.copy()\n",
    "\n",
    "for col in multi_label_cols:\n",
    "    preproc_df[col] = preproc_df[col].apply(lambda x: x.split(', ') if isinstance(x, str) else x)\n",
    "    mlb = MultiLabelBinarizer()\n",
    "    encoded = mlb.fit_transform(preproc_df[col])\n",
    "    preproc_df = preproc_df.join(pd.DataFrame(encoded, columns=[f\"{col}_{cls}\".replace(\" \", \"_\").replace(\",\", \"_\") for cls in mlb.classes_]))\n",
    "    preproc_df.drop(columns=[col], inplace=True)"
   ]
  },
  {
   "cell_type": "code",
   "execution_count": 7,
   "id": "da53c813-cbea-4216-b98d-5aaee87b7e87",
   "metadata": {},
   "outputs": [],
   "source": [
    "vectorizer = TfidfVectorizer(max_features=100)\n",
    "preproc_df['Keywords'] = preproc_df['Keywords'].apply(lambda x: ' '.join(x))\n",
    "keywords_tfidf = vectorizer.fit_transform(preproc_df['Keywords']).toarray()"
   ]
  },
  {
   "cell_type": "code",
   "execution_count": 8,
   "id": "3a31472f-11e8-4ee2-9280-b963e4081e33",
   "metadata": {},
   "outputs": [],
   "source": [
    "keywords_df = pd.DataFrame(keywords_tfidf, columns=[f\"keyword_{i}\" for i in range(keywords_tfidf.shape[1])])\n",
    "preproc_df = preproc_df.drop(columns=['Keywords']).reset_index(drop=True)\n",
    "preproc_df = pd.concat([preproc_df, keywords_df], axis=1)"
   ]
  },
  {
   "cell_type": "markdown",
   "id": "13e9b79a-72b9-4667-bb49-168b8d5be83c",
   "metadata": {},
   "source": [
    "### Performing Train-Test Splits\n",
    "\n",
    "- Get the X (feature values) and y (target class variable)\n",
    "- Split X and y using the ratio of 80:20 and a random state of 42."
   ]
  },
  {
   "cell_type": "code",
   "execution_count": 9,
   "id": "e00f1159-30d2-412d-83d5-ad0b88351af0",
   "metadata": {},
   "outputs": [],
   "source": [
    "X = preproc_df.drop([\"Student ID\", \"Question ID\", \"Type of Answer\"], axis=1)\n",
    "y = preproc_df[\"Type of Answer\"]"
   ]
  },
  {
   "cell_type": "code",
   "execution_count": 10,
   "id": "62d597b4-63b9-4efc-9d62-0660d78335a2",
   "metadata": {},
   "outputs": [
    {
     "data": {
      "text/plain": [
       "(9546, 151)"
      ]
     },
     "execution_count": 10,
     "metadata": {},
     "output_type": "execute_result"
    }
   ],
   "source": [
    "X.shape"
   ]
  },
  {
   "cell_type": "code",
   "execution_count": 11,
   "id": "9e17fe59-478f-42c5-bde4-f8a45038c31e",
   "metadata": {},
   "outputs": [],
   "source": [
    "X_train, X_test, y_train, y_test = train_test_split(X, y, test_size=0.2, random_state=42)"
   ]
  },
  {
   "cell_type": "markdown",
   "id": "09b160a5-5217-4400-a11a-d806f6d1c959",
   "metadata": {},
   "source": [
    "### Declare the classifiers to be used and, the grid of parameters to find the best performing model for each type of classifiers."
   ]
  },
  {
   "cell_type": "code",
   "execution_count": 12,
   "id": "cc805f70-a8a1-4dba-848c-cc38a4490d08",
   "metadata": {},
   "outputs": [],
   "source": [
    "classifiers = {\n",
    "    \"LogisticRegression\": LogisticRegression(solver=\"liblinear\"),\n",
    "    \"NaiveBayes\": BernoulliNB(),\n",
    "    \"DecisionTree\": DecisionTreeClassifier(),\n",
    "    \"KNN\": KNeighborsClassifier(24),\n",
    "    \"SVM\": SVC(gamma='auto', probability=True),\n",
    "    \"RFR\": RandomForestClassifier()\n",
    "}\n",
    "\n",
    "param_grids = {\n",
    "    \"LogisticRegression\": {\n",
    "        \"C\": [0.01, 0.1, 1, 10, 100],\n",
    "        \"penalty\": [\"l1\", \"l2\"]\n",
    "    },\n",
    "    \"NaiveBayes\": {\n",
    "        \"alpha\": [0.1, 0.5, 1.0, 2.0, 5.0],\n",
    "        \"binarize\": [0.0, 0.1, 0.5, 1.0]\n",
    "    },\n",
    "    \"DecisionTree\": {\n",
    "        \"max_depth\": [None, 10, 20, 30, 40, 50],\n",
    "        \"min_samples_split\": [2, 5, 10, 20, 30, 40, 50],\n",
    "        \"min_samples_leaf\": [2, 5, 10, 20, 30, 40, 50],\n",
    "        \"criterion\": [\"gini\", \"entropy\"]\n",
    "    },\n",
    "    \"KNN\": {\n",
    "        \"n_neighbors\": list(range(1, 500, 2)),\n",
    "        \"weights\": [\"uniform\", \"distance\"],\n",
    "        \"metric\": [\"euclidean\", \"manhattan\"]\n",
    "    },\n",
    "    \"SVM\": {\n",
    "        \"C\": [0.1, 1, 10, 100],\n",
    "        \"kernel\": [\"linear\"],\n",
    "    },\n",
    "    \"RFR\": {\n",
    "        \"n_estimators\": [50, 100, 200, 300],\n",
    "        \"max_depth\": [None, 2, 5, 10, 20, 30, 40, 50],\n",
    "        \"min_samples_split\": [2, 5, 10, 20, 30, 40, 50],\n",
    "        \"min_samples_leaf\": [2, 5, 10, 20, 30, 40, 50],\n",
    "        \"criterion\": [\"gini\", \"entropy\"]\n",
    "    }\n",
    "}"
   ]
  },
  {
   "cell_type": "markdown",
   "id": "6f791829-4f48-4bbf-8871-b75d955f965c",
   "metadata": {},
   "source": [
    "### Using GridSearchCV, optimize the results for each classifier on the basis of the best accuracy"
   ]
  },
  {
   "cell_type": "code",
   "execution_count": 13,
   "id": "5fa970fd-1354-4c07-a837-efdefb2e9961",
   "metadata": {},
   "outputs": [
    {
     "name": "stdout",
     "output_type": "stream",
     "text": [
      "Optimizing LogisticRegression...\n",
      "Best Parameters for LogisticRegression: {'C': 1, 'penalty': 'l1'}\n",
      "Best Model Accuracy: 0.5870\n",
      "\n",
      "Optimizing NaiveBayes...\n",
      "Best Parameters for NaiveBayes: {'alpha': 5.0, 'binarize': 0.5}\n",
      "Best Model Accuracy: 0.5488\n",
      "\n",
      "Optimizing DecisionTree...\n",
      "Best Parameters for DecisionTree: {'criterion': 'gini', 'max_depth': 20, 'min_samples_leaf': 20, 'min_samples_split': 50}\n",
      "Best Model Accuracy: 0.5891\n",
      "\n",
      "Optimizing KNN...\n",
      "Best Parameters for KNN: {'metric': 'euclidean', 'n_neighbors': 85, 'weights': 'uniform'}\n",
      "Best Model Accuracy: 0.5910\n",
      "\n",
      "Optimizing SVM...\n",
      "Best Parameters for SVM: {'C': 10, 'kernel': 'linear'}\n",
      "Best Model Accuracy: 0.5860\n",
      "\n",
      "Optimizing RFR...\n",
      "Best Parameters for RFR: {'criterion': 'entropy', 'max_depth': 20, 'min_samples_leaf': 2, 'min_samples_split': 30, 'n_estimators': 100}\n",
      "Best Model Accuracy: 0.5868\n",
      "\n"
     ]
    }
   ],
   "source": [
    "best_models = {}\n",
    "best_scores = {}\n",
    "\n",
    "for name, model in classifiers.items():\n",
    "    print(f\"Optimizing {name}...\")\n",
    "    \n",
    "    search = GridSearchCV(model, param_grids[name], scoring=\"accuracy\", n_jobs=-1)\n",
    "    search.fit(X_train, y_train)\n",
    "\n",
    "    best_models[name] = search.best_estimator_\n",
    "    best_scores[name] = search.best_score_\n",
    "\n",
    "    print(f\"Best Parameters for {name}: {search.best_params_}\")\n",
    "    print(f\"Best Model Accuracy: {search.best_score_:.4f}\\n\")"
   ]
  },
  {
   "cell_type": "markdown",
   "id": "12ea7e2a-4e77-42f2-b7b8-bced28f8d35c",
   "metadata": {},
   "source": [
    "### Evaluation"
   ]
  },
  {
   "cell_type": "code",
   "execution_count": 14,
   "id": "14fdd670-0ffd-4569-b078-4a9207e8bda4",
   "metadata": {},
   "outputs": [],
   "source": [
    "def evaluate_models(best_models, X, y):\n",
    "    results = []\n",
    "\n",
    "    for name, model in best_models.items():\n",
    "        y_pred = cross_val_predict(model, X, y)\n",
    "        y_probs = cross_val_predict(model, X, y, method=\"predict_proba\")[:, 1]\n",
    "        \n",
    "        acc = accuracy_score(y, y_pred)\n",
    "        f1_weighted = f1_score(y, y_pred, average=\"weighted\")\n",
    "        f1_macro = f1_score(y, y_pred, average=\"macro\")\n",
    "        roc_auc = roc_auc_score(y, y_probs)\n",
    "\n",
    "        results.append({\n",
    "            \"Classifier\": name, \n",
    "            \"Accuracy\": acc, \n",
    "            \"F1_Weighted\": f1_weighted, \n",
    "            \"F1_Macro\": f1_macro,\n",
    "            \"ROC_AUC\": roc_auc\n",
    "        })\n",
    "    \n",
    "    df_results = pd.DataFrame(results)\n",
    "    print(df_results)"
   ]
  },
  {
   "cell_type": "code",
   "execution_count": 15,
   "id": "0acac0d9-203b-43f3-98f6-30501f3e417e",
   "metadata": {},
   "outputs": [
    {
     "name": "stdout",
     "output_type": "stream",
     "text": [
      "           Classifier  Accuracy  F1_Weighted  F1_Macro   ROC_AUC\n",
      "0  LogisticRegression  0.552880     0.542293  0.538248  0.556187\n",
      "1          NaiveBayes  0.542408     0.541733  0.540145  0.546765\n",
      "2        DecisionTree  0.554450     0.543825  0.539781  0.563477\n",
      "3                 KNN  0.560209     0.535892  0.530031  0.553830\n",
      "4                 SVM  0.551309     0.543187  0.539568  0.551086\n",
      "5                 RFR  0.558639     0.550779  0.547245  0.566766\n"
     ]
    }
   ],
   "source": [
    "evaluate_models(best_models, X_test, y_test)"
   ]
  },
  {
   "cell_type": "markdown",
   "id": "884887a7-b4b4-4864-a088-cfd7a6544079",
   "metadata": {},
   "source": [
    "- As we can observe, most classifiers perform almost at par, so there's not one model performing the best.\n",
    "- Yet, considering all the metrics, we can observe that RFR is performing better on all three: `Accuracy, F1 scores and ROC_AUC`. So we consider RFR as the top model."
   ]
  },
  {
   "cell_type": "code",
   "execution_count": 16,
   "id": "6f0a5e1f-a2c8-4a17-9f21-010e3254cc6d",
   "metadata": {},
   "outputs": [
    {
     "data": {
      "image/png": "[encoded data removed]",
      "text/plain": [
       "<Figure size 640x480 with 1 Axes>"
      ]
     },
     "metadata": {},
     "output_type": "display_data"
    }
   ],
   "source": [
    "model = best_models[\"RFR\"]\n",
    "# Get probabilities\n",
    "y_probs = model.predict_proba(X_test)[:, 1]\n",
    "\n",
    "# ROC Curve\n",
    "fpr, tpr, _ = roc_curve(y_test, y_probs)\n",
    "roc_auc = auc(fpr, tpr)\n",
    "plt.plot(fpr, tpr, label=f\"ROC Curve (AUC = {roc_auc:.2f})\", color=\"blue\")\n",
    "plt.plot([0, 1], [0, 1], linestyle=\"--\", color=\"gray\")\n",
    "plt.xlabel(\"False Positive Rate\")\n",
    "plt.ylabel(\"True Positive Rate\")\n",
    "plt.title(\"ROC Curve\")\n",
    "plt.legend()\n",
    "plt.show()"
   ]
  },
  {
   "cell_type": "code",
   "execution_count": 17,
   "id": "6ea36891-3021-4481-bdf3-c510d36a5ba1",
   "metadata": {},
   "outputs": [
    {
     "data": {
      "image/png": "[encoded data removed]",
      "text/plain": [
       "<Figure size 640x480 with 1 Axes>"
      ]
     },
     "metadata": {},
     "output_type": "display_data"
    }
   ],
   "source": [
    "display = PrecisionRecallDisplay.from_estimator(\n",
    "    best_models[\"RFR\"], X_test, y_test, name=\"RFR\", plot_chance_level=True, despine=True\n",
    ")\n",
    "_ = display.ax_.set_title(\"2-class Precision-Recall curve\")"
   ]
  },
  {
   "cell_type": "markdown",
   "id": "a6207254-a1c3-4c28-8332-9f0dee2a1cb8",
   "metadata": {},
   "source": [
    "### Observations from the Plots:\n",
    "- The ROC-AUC curve gives a AUC value of 0.61, which states that the model is doing moderate to good on prediction, but not the best since in terms of AUC values, >=0.8 are more significant.\n",
    "- The RFR's Average Precision (AP) is well above the Chance level AP at 0.58, indicating that the model is performing modest but surely, not the best.\n",
    "- Possible ways to improve the results could be utilising more complex Ensemble techniques."
   ]
  }
 ],
 "metadata": {
  "kernelspec": {
   "display_name": "Python 3 (ipykernel)",
   "language": "python",
   "name": "python3"
  },
  "language_info": {
   "codemirror_mode": {
    "name": "ipython",
    "version": 3
   },
   "file_extension": ".py",
   "mimetype": "text/x-python",
   "name": "python",
   "nbconvert_exporter": "python",
   "pygments_lexer": "ipython3",
   "version": "3.10.16"
  }
 },
 "nbformat": 4,
 "nbformat_minor": 5
}
